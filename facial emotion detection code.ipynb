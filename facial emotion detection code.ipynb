{
 "cells": [
  {
   "cell_type": "code",
   "execution_count": 1,
   "metadata": {
    "id": "AeHuSi61cjIC"
   },
   "outputs": [],
   "source": [
    "import pandas as pd\n",
    "import numpy as np\n",
    "from google.colab import drive\n",
    "from keras.models import Sequential\n",
    "from keras.layers import Dense, Dropout, Activation, Flatten\n",
    "from keras.layers import Conv2D, MaxPooling2D, BatchNormalization,AveragePooling2D\n",
    "from keras.losses import categorical_crossentropy\n",
    "from tensorflow.keras.optimizers import Adam\n",
    "from keras.regularizers import l2\n",
    "from keras.utils import np_utils\n",
    "from keras.preprocessing import image\n",
    "from matplotlib import pyplot as plt"
   ]
  },
  {
   "cell_type": "code",
   "execution_count": 2,
   "metadata": {
    "colab": {
     "base_uri": "https://localhost:8080/",
     "height": 244
    },
    "id": "HJ7x5YlgcqTD",
    "outputId": "ba5098d9-dddd-438b-ed5e-c6a2ccf32421"
   },
   "outputs": [
    {
     "name": "stdout",
     "output_type": "stream",
     "text": [
      "Drive already mounted at /content/drive; to attempt to forcibly remount, call drive.mount(\"/content/drive\", force_remount=True).\n"
     ]
    },
    {
     "data": {
      "text/html": [
       "\n",
       "  <div id=\"df-5b9e5d49-ab97-43e3-8700-41f9b2ba1009\">\n",
       "    <div class=\"colab-df-container\">\n",
       "      <div>\n",
       "<style scoped>\n",
       "    .dataframe tbody tr th:only-of-type {\n",
       "        vertical-align: middle;\n",
       "    }\n",
       "\n",
       "    .dataframe tbody tr th {\n",
       "        vertical-align: top;\n",
       "    }\n",
       "\n",
       "    .dataframe thead th {\n",
       "        text-align: right;\n",
       "    }\n",
       "</style>\n",
       "<table border=\"1\" class=\"dataframe\">\n",
       "  <thead>\n",
       "    <tr style=\"text-align: right;\">\n",
       "      <th></th>\n",
       "      <th>emotion</th>\n",
       "      <th>pixels</th>\n",
       "      <th>Usage</th>\n",
       "    </tr>\n",
       "  </thead>\n",
       "  <tbody>\n",
       "    <tr>\n",
       "      <th>0</th>\n",
       "      <td>0</td>\n",
       "      <td>70 80 82 72 58 58 60 63 54 58 60 48 89 115 121...</td>\n",
       "      <td>Training</td>\n",
       "    </tr>\n",
       "    <tr>\n",
       "      <th>1</th>\n",
       "      <td>0</td>\n",
       "      <td>151 150 147 155 148 133 111 140 170 174 182 15...</td>\n",
       "      <td>Training</td>\n",
       "    </tr>\n",
       "    <tr>\n",
       "      <th>2</th>\n",
       "      <td>2</td>\n",
       "      <td>231 212 156 164 174 138 161 173 182 200 106 38...</td>\n",
       "      <td>Training</td>\n",
       "    </tr>\n",
       "    <tr>\n",
       "      <th>3</th>\n",
       "      <td>4</td>\n",
       "      <td>24 32 36 30 32 23 19 20 30 41 21 22 32 34 21 1...</td>\n",
       "      <td>Training</td>\n",
       "    </tr>\n",
       "    <tr>\n",
       "      <th>4</th>\n",
       "      <td>6</td>\n",
       "      <td>4 0 0 0 0 0 0 0 0 0 0 0 3 15 23 28 48 50 58 84...</td>\n",
       "      <td>Training</td>\n",
       "    </tr>\n",
       "  </tbody>\n",
       "</table>\n",
       "</div>\n",
       "      <button class=\"colab-df-convert\" onclick=\"convertToInteractive('df-5b9e5d49-ab97-43e3-8700-41f9b2ba1009')\"\n",
       "              title=\"Convert this dataframe to an interactive table.\"\n",
       "              style=\"display:none;\">\n",
       "        \n",
       "  <svg xmlns=\"http://www.w3.org/2000/svg\" height=\"24px\"viewBox=\"0 0 24 24\"\n",
       "       width=\"24px\">\n",
       "    <path d=\"M0 0h24v24H0V0z\" fill=\"none\"/>\n",
       "    <path d=\"M18.56 5.44l.94 2.06.94-2.06 2.06-.94-2.06-.94-.94-2.06-.94 2.06-2.06.94zm-11 1L8.5 8.5l.94-2.06 2.06-.94-2.06-.94L8.5 2.5l-.94 2.06-2.06.94zm10 10l.94 2.06.94-2.06 2.06-.94-2.06-.94-.94-2.06-.94 2.06-2.06.94z\"/><path d=\"M17.41 7.96l-1.37-1.37c-.4-.4-.92-.59-1.43-.59-.52 0-1.04.2-1.43.59L10.3 9.45l-7.72 7.72c-.78.78-.78 2.05 0 2.83L4 21.41c.39.39.9.59 1.41.59.51 0 1.02-.2 1.41-.59l7.78-7.78 2.81-2.81c.8-.78.8-2.07 0-2.86zM5.41 20L4 18.59l7.72-7.72 1.47 1.35L5.41 20z\"/>\n",
       "  </svg>\n",
       "      </button>\n",
       "      \n",
       "  <style>\n",
       "    .colab-df-container {\n",
       "      display:flex;\n",
       "      flex-wrap:wrap;\n",
       "      gap: 12px;\n",
       "    }\n",
       "\n",
       "    .colab-df-convert {\n",
       "      background-color: #E8F0FE;\n",
       "      border: none;\n",
       "      border-radius: 50%;\n",
       "      cursor: pointer;\n",
       "      display: none;\n",
       "      fill: #1967D2;\n",
       "      height: 32px;\n",
       "      padding: 0 0 0 0;\n",
       "      width: 32px;\n",
       "    }\n",
       "\n",
       "    .colab-df-convert:hover {\n",
       "      background-color: #E2EBFA;\n",
       "      box-shadow: 0px 1px 2px rgba(60, 64, 67, 0.3), 0px 1px 3px 1px rgba(60, 64, 67, 0.15);\n",
       "      fill: #174EA6;\n",
       "    }\n",
       "\n",
       "    [theme=dark] .colab-df-convert {\n",
       "      background-color: #3B4455;\n",
       "      fill: #D2E3FC;\n",
       "    }\n",
       "\n",
       "    [theme=dark] .colab-df-convert:hover {\n",
       "      background-color: #434B5C;\n",
       "      box-shadow: 0px 1px 3px 1px rgba(0, 0, 0, 0.15);\n",
       "      filter: drop-shadow(0px 1px 2px rgba(0, 0, 0, 0.3));\n",
       "      fill: #FFFFFF;\n",
       "    }\n",
       "  </style>\n",
       "\n",
       "      <script>\n",
       "        const buttonEl =\n",
       "          document.querySelector('#df-5b9e5d49-ab97-43e3-8700-41f9b2ba1009 button.colab-df-convert');\n",
       "        buttonEl.style.display =\n",
       "          google.colab.kernel.accessAllowed ? 'block' : 'none';\n",
       "\n",
       "        async function convertToInteractive(key) {\n",
       "          const element = document.querySelector('#df-5b9e5d49-ab97-43e3-8700-41f9b2ba1009');\n",
       "          const dataTable =\n",
       "            await google.colab.kernel.invokeFunction('convertToInteractive',\n",
       "                                                     [key], {});\n",
       "          if (!dataTable) return;\n",
       "\n",
       "          const docLinkHtml = 'Like what you see? Visit the ' +\n",
       "            '<a target=\"_blank\" href=https://colab.research.google.com/notebooks/data_table.ipynb>data table notebook</a>'\n",
       "            + ' to learn more about interactive tables.';\n",
       "          element.innerHTML = '';\n",
       "          dataTable['output_type'] = 'display_data';\n",
       "          await google.colab.output.renderOutput(dataTable, element);\n",
       "          const docLink = document.createElement('div');\n",
       "          docLink.innerHTML = docLinkHtml;\n",
       "          element.appendChild(docLink);\n",
       "        }\n",
       "      </script>\n",
       "    </div>\n",
       "  </div>\n",
       "  "
      ],
      "text/plain": [
       "   emotion                                             pixels     Usage\n",
       "0        0  70 80 82 72 58 58 60 63 54 58 60 48 89 115 121...  Training\n",
       "1        0  151 150 147 155 148 133 111 140 170 174 182 15...  Training\n",
       "2        2  231 212 156 164 174 138 161 173 182 200 106 38...  Training\n",
       "3        4  24 32 36 30 32 23 19 20 30 41 21 22 32 34 21 1...  Training\n",
       "4        6  4 0 0 0 0 0 0 0 0 0 0 0 3 15 23 28 48 50 58 84...  Training"
      ]
     },
     "execution_count": 2,
     "metadata": {},
     "output_type": "execute_result"
    }
   ],
   "source": [
    "drive.mount('/content/drive')\n",
    "data = pd.read_csv('/content/drive/MyDrive/BigData/fer2013.csv')\n",
    "data.head()"
   ]
  },
  {
   "cell_type": "code",
   "execution_count": 3,
   "metadata": {
    "colab": {
     "base_uri": "https://localhost:8080/",
     "height": 269
    },
    "id": "fUWPifP7csfY",
    "outputId": "365e7a36-2d4a-4991-a04d-d5f4a9a333af"
   },
   "outputs": [
    {
     "data": {
      "text/html": [
       "\n",
       "  <div id=\"df-61f2abcb-1c96-4cd3-9ea2-7a3f78f1bb75\">\n",
       "    <div class=\"colab-df-container\">\n",
       "      <div>\n",
       "<style scoped>\n",
       "    .dataframe tbody tr th:only-of-type {\n",
       "        vertical-align: middle;\n",
       "    }\n",
       "\n",
       "    .dataframe tbody tr th {\n",
       "        vertical-align: top;\n",
       "    }\n",
       "\n",
       "    .dataframe thead th {\n",
       "        text-align: right;\n",
       "    }\n",
       "</style>\n",
       "<table border=\"1\" class=\"dataframe\">\n",
       "  <thead>\n",
       "    <tr style=\"text-align: right;\">\n",
       "      <th></th>\n",
       "      <th>emotion</th>\n",
       "      <th>number</th>\n",
       "    </tr>\n",
       "  </thead>\n",
       "  <tbody>\n",
       "    <tr>\n",
       "      <th>0</th>\n",
       "      <td>Angry</td>\n",
       "      <td>4953</td>\n",
       "    </tr>\n",
       "    <tr>\n",
       "      <th>1</th>\n",
       "      <td>Fear</td>\n",
       "      <td>5121</td>\n",
       "    </tr>\n",
       "    <tr>\n",
       "      <th>2</th>\n",
       "      <td>Sad</td>\n",
       "      <td>6077</td>\n",
       "    </tr>\n",
       "    <tr>\n",
       "      <th>3</th>\n",
       "      <td>Neutral</td>\n",
       "      <td>6198</td>\n",
       "    </tr>\n",
       "    <tr>\n",
       "      <th>4</th>\n",
       "      <td>Happy</td>\n",
       "      <td>8989</td>\n",
       "    </tr>\n",
       "    <tr>\n",
       "      <th>5</th>\n",
       "      <td>Surprise</td>\n",
       "      <td>4002</td>\n",
       "    </tr>\n",
       "    <tr>\n",
       "      <th>6</th>\n",
       "      <td>Digust</td>\n",
       "      <td>547</td>\n",
       "    </tr>\n",
       "  </tbody>\n",
       "</table>\n",
       "</div>\n",
       "      <button class=\"colab-df-convert\" onclick=\"convertToInteractive('df-61f2abcb-1c96-4cd3-9ea2-7a3f78f1bb75')\"\n",
       "              title=\"Convert this dataframe to an interactive table.\"\n",
       "              style=\"display:none;\">\n",
       "        \n",
       "  <svg xmlns=\"http://www.w3.org/2000/svg\" height=\"24px\"viewBox=\"0 0 24 24\"\n",
       "       width=\"24px\">\n",
       "    <path d=\"M0 0h24v24H0V0z\" fill=\"none\"/>\n",
       "    <path d=\"M18.56 5.44l.94 2.06.94-2.06 2.06-.94-2.06-.94-.94-2.06-.94 2.06-2.06.94zm-11 1L8.5 8.5l.94-2.06 2.06-.94-2.06-.94L8.5 2.5l-.94 2.06-2.06.94zm10 10l.94 2.06.94-2.06 2.06-.94-2.06-.94-.94-2.06-.94 2.06-2.06.94z\"/><path d=\"M17.41 7.96l-1.37-1.37c-.4-.4-.92-.59-1.43-.59-.52 0-1.04.2-1.43.59L10.3 9.45l-7.72 7.72c-.78.78-.78 2.05 0 2.83L4 21.41c.39.39.9.59 1.41.59.51 0 1.02-.2 1.41-.59l7.78-7.78 2.81-2.81c.8-.78.8-2.07 0-2.86zM5.41 20L4 18.59l7.72-7.72 1.47 1.35L5.41 20z\"/>\n",
       "  </svg>\n",
       "      </button>\n",
       "      \n",
       "  <style>\n",
       "    .colab-df-container {\n",
       "      display:flex;\n",
       "      flex-wrap:wrap;\n",
       "      gap: 12px;\n",
       "    }\n",
       "\n",
       "    .colab-df-convert {\n",
       "      background-color: #E8F0FE;\n",
       "      border: none;\n",
       "      border-radius: 50%;\n",
       "      cursor: pointer;\n",
       "      display: none;\n",
       "      fill: #1967D2;\n",
       "      height: 32px;\n",
       "      padding: 0 0 0 0;\n",
       "      width: 32px;\n",
       "    }\n",
       "\n",
       "    .colab-df-convert:hover {\n",
       "      background-color: #E2EBFA;\n",
       "      box-shadow: 0px 1px 2px rgba(60, 64, 67, 0.3), 0px 1px 3px 1px rgba(60, 64, 67, 0.15);\n",
       "      fill: #174EA6;\n",
       "    }\n",
       "\n",
       "    [theme=dark] .colab-df-convert {\n",
       "      background-color: #3B4455;\n",
       "      fill: #D2E3FC;\n",
       "    }\n",
       "\n",
       "    [theme=dark] .colab-df-convert:hover {\n",
       "      background-color: #434B5C;\n",
       "      box-shadow: 0px 1px 3px 1px rgba(0, 0, 0, 0.15);\n",
       "      filter: drop-shadow(0px 1px 2px rgba(0, 0, 0, 0.3));\n",
       "      fill: #FFFFFF;\n",
       "    }\n",
       "  </style>\n",
       "\n",
       "      <script>\n",
       "        const buttonEl =\n",
       "          document.querySelector('#df-61f2abcb-1c96-4cd3-9ea2-7a3f78f1bb75 button.colab-df-convert');\n",
       "        buttonEl.style.display =\n",
       "          google.colab.kernel.accessAllowed ? 'block' : 'none';\n",
       "\n",
       "        async function convertToInteractive(key) {\n",
       "          const element = document.querySelector('#df-61f2abcb-1c96-4cd3-9ea2-7a3f78f1bb75');\n",
       "          const dataTable =\n",
       "            await google.colab.kernel.invokeFunction('convertToInteractive',\n",
       "                                                     [key], {});\n",
       "          if (!dataTable) return;\n",
       "\n",
       "          const docLinkHtml = 'Like what you see? Visit the ' +\n",
       "            '<a target=\"_blank\" href=https://colab.research.google.com/notebooks/data_table.ipynb>data table notebook</a>'\n",
       "            + ' to learn more about interactive tables.';\n",
       "          element.innerHTML = '';\n",
       "          dataTable['output_type'] = 'display_data';\n",
       "          await google.colab.output.renderOutput(dataTable, element);\n",
       "          const docLink = document.createElement('div');\n",
       "          docLink.innerHTML = docLinkHtml;\n",
       "          element.appendChild(docLink);\n",
       "        }\n",
       "      </script>\n",
       "    </div>\n",
       "  </div>\n",
       "  "
      ],
      "text/plain": [
       "    emotion  number\n",
       "0     Angry    4953\n",
       "1      Fear    5121\n",
       "2       Sad    6077\n",
       "3   Neutral    6198\n",
       "4     Happy    8989\n",
       "5  Surprise    4002\n",
       "6    Digust     547"
      ]
     },
     "execution_count": 3,
     "metadata": {},
     "output_type": "execute_result"
    }
   ],
   "source": [
    "emotion_map = {0: 'Angry', 1: 'Digust', 2: 'Fear', 3: 'Happy', 4: 'Sad', 5: 'Surprise', 6: 'Neutral'}\n",
    "emotion_counts = data['emotion'].value_counts(sort=False).reset_index()\n",
    "emotion_counts.columns = ['emotion', 'number']\n",
    "emotion_counts['emotion'] = emotion_counts['emotion'].map(emotion_map)\n",
    "emotion_counts"
   ]
  },
  {
   "cell_type": "code",
   "execution_count": 4,
   "metadata": {
    "id": "LxU6RHx4ctsc"
   },
   "outputs": [],
   "source": [
    "X_train, train_y, X_test, test_y, X_check, check_y=[],[],[],[],[],[]\n",
    "for index, row in data.iterrows():\n",
    "  val=row['pixels'].split(\" \")\n",
    "  if 'Training' in row['Usage']:\n",
    "    X_train.append(np.array(val,'float32'))\n",
    "    train_y.append(row['emotion'])\n",
    "  elif 'PublicTest' in row['Usage']:\n",
    "    X_test.append(np.array(val,'float32'))\n",
    "    test_y.append(row['emotion'])\n",
    "  elif 'PrivateTest' in row['Usage']:\n",
    "    X_check.append(np.array(val,'float32'))\n",
    "    check_y.append(row['emotion'])"
   ]
  },
  {
   "cell_type": "code",
   "execution_count": 5,
   "metadata": {
    "id": "Ak9moOJjcv-k"
   },
   "outputs": [],
   "source": [
    "num_labels = 7\n",
    "batch_size = 64\n",
    "epochs = 60\n",
    "width, height = 48, 48"
   ]
  },
  {
   "cell_type": "code",
   "execution_count": 6,
   "metadata": {
    "id": "eeff4r1KcxbO"
   },
   "outputs": [],
   "source": [
    "X_train = np.array(X_train,'float32')\n",
    "train_y = np.array(train_y,'float32')\n",
    "X_test = np.array(X_test,'float32')\n",
    "test_y = np.array(test_y,'float32')\n",
    "X_check = np.array(X_check,'float32')\n",
    "check_y = np.array(check_y,'float32')"
   ]
  },
  {
   "cell_type": "code",
   "execution_count": 7,
   "metadata": {
    "colab": {
     "base_uri": "https://localhost:8080/"
    },
    "id": "pxP-QbEc6HAf",
    "outputId": "ff2be433-ee88-4d96-9c3d-0f99df403045"
   },
   "outputs": [
    {
     "name": "stdout",
     "output_type": "stream",
     "text": [
      "[ 70.  80.  82. ... 106. 109.  82.]\n"
     ]
    }
   ],
   "source": [
    "print(X_train[0])"
   ]
  },
  {
   "cell_type": "code",
   "execution_count": 8,
   "metadata": {
    "id": "-Y9c741gcykX"
   },
   "outputs": [],
   "source": [
    "train_y=np_utils.to_categorical(train_y, num_classes=num_labels)\n",
    "test_y=np_utils.to_categorical(test_y, num_classes=num_labels)\n",
    "check_y=np_utils.to_categorical(check_y, num_classes=num_labels)"
   ]
  },
  {
   "cell_type": "code",
   "execution_count": 9,
   "metadata": {
    "colab": {
     "base_uri": "https://localhost:8080/"
    },
    "id": "zJW1BFDN6a-B",
    "outputId": "e745a6ce-6669-4602-95f6-7776d9b38f81"
   },
   "outputs": [
    {
     "name": "stdout",
     "output_type": "stream",
     "text": [
      "[1. 0. 0. 0. 0. 0. 0.]\n"
     ]
    }
   ],
   "source": [
    "print(train_y[0])"
   ]
  },
  {
   "cell_type": "code",
   "execution_count": 10,
   "metadata": {
    "id": "_3YaZ0gxczlp"
   },
   "outputs": [],
   "source": [
    "X_train -= np.mean(X_train, axis=0)\n",
    "X_train /= np.std(X_train, axis=0)\n",
    "\n",
    "X_test -= np.mean(X_test, axis=0)\n",
    "X_test /= np.std(X_test, axis=0)\n",
    "\n",
    "X_check -= np.mean(X_check, axis=0)\n",
    "X_check /= np.std(X_check, axis=0)\n",
    "\n",
    "X_train = X_train.reshape(X_train.shape[0], 48, 48, 1)\n",
    "\n",
    "X_test = X_test.reshape(X_test.shape[0], 48, 48, 1)\n",
    "\n",
    "X_check = X_check.reshape(X_check.shape[0], 48, 48, 1)"
   ]
  },
  {
   "cell_type": "code",
   "execution_count": 11,
   "metadata": {
    "colab": {
     "base_uri": "https://localhost:8080/"
    },
    "id": "TMqZ3_S85_U_",
    "outputId": "476986bd-9951-4410-ac5d-c2cf34802342"
   },
   "outputs": [
    {
     "name": "stdout",
     "output_type": "stream",
     "text": [
      "[[[-0.6098866 ]\n",
      "  [-0.4592209 ]\n",
      "  [-0.40325198]\n",
      "  ...\n",
      "  [-0.7694696 ]\n",
      "  [-0.90518403]\n",
      "  [-0.95160526]]\n",
      "\n",
      " [[-0.66049284]\n",
      "  [-0.68162924]\n",
      "  [-0.694159  ]\n",
      "  ...\n",
      "  [-0.7112763 ]\n",
      "  [-0.7862608 ]\n",
      "  [-0.90819967]]\n",
      "\n",
      " [[-0.83170736]\n",
      "  [-0.8952668 ]\n",
      "  [-0.73603356]\n",
      "  ...\n",
      "  [-0.7924775 ]\n",
      "  [-0.7261497 ]\n",
      "  [-0.8613453 ]]\n",
      "\n",
      " ...\n",
      "\n",
      " [[-0.33269772]\n",
      "  [-0.6514918 ]\n",
      "  [-0.93670547]\n",
      "  ...\n",
      "  [-0.5265123 ]\n",
      "  [-0.7377333 ]\n",
      "  [-0.9078971 ]]\n",
      "\n",
      " [[-0.5099617 ]\n",
      "  [-0.43692893]\n",
      "  [-0.46537215]\n",
      "  ...\n",
      "  [-0.10019822]\n",
      "  [-0.5580577 ]\n",
      "  [-0.86989194]]\n",
      "\n",
      " [[-0.5095401 ]\n",
      "  [-0.56317693]\n",
      "  [-0.3986179 ]\n",
      "  ...\n",
      "  [-0.08629682]\n",
      "  [-0.0573744 ]\n",
      "  [-0.41127437]]]\n"
     ]
    }
   ],
   "source": [
    "print(X_train[0])"
   ]
  },
  {
   "cell_type": "code",
   "execution_count": 12,
   "metadata": {
    "id": "TntLf-jGc0lL"
   },
   "outputs": [],
   "source": [
    "model = Sequential()\n",
    "\n",
    "model.add(Conv2D(64, kernel_size=(3, 3), activation='relu', input_shape=(X_train.shape[1:])))\n",
    "model.add(Conv2D(64,kernel_size= (3, 3), activation='relu'))\n",
    "model.add(BatchNormalization())\n",
    "model.add(MaxPooling2D(pool_size=(2,2), strides=(2, 2)))\n",
    "model.add(Dropout(0.5))\n",
    "\n",
    "model.add(Conv2D(64, (3, 3), activation='relu'))\n",
    "model.add(Conv2D(64, (3, 3), activation='relu'))\n",
    "model.add(BatchNormalization())\n",
    "model.add(MaxPooling2D(pool_size=(2,2), strides=(2, 2)))\n",
    "model.add(Dropout(0.5))\n",
    "\n",
    "model.add(Conv2D(128, (3, 3), activation='relu'))\n",
    "model.add(Conv2D(128, (3, 3), activation='relu'))\n",
    "model.add(BatchNormalization())\n",
    "model.add(MaxPooling2D(pool_size=(2,2), strides=(2, 2)))\n",
    "\n",
    "model.add(Flatten())\n",
    "\n",
    "model.add(Dense(1024, activation='relu'))\n",
    "model.add(Dropout(0.2))\n",
    "model.add(Dense(1024, activation='relu'))\n",
    "model.add(Dropout(0.2))\n",
    "\n",
    "model.add(Dense(num_labels, activation='softmax'))"
   ]
  },
  {
   "cell_type": "code",
   "execution_count": 13,
   "metadata": {
    "id": "Mi4LBGSPc5Jw"
   },
   "outputs": [],
   "source": [
    "opt = Adam(learning_rate=0.0001, decay=1e-6)\n",
    "model.compile(loss = 'categorical_crossentropy', \n",
    "              optimizer = opt, \n",
    "              metrics = ['accuracy'])"
   ]
  },
  {
   "cell_type": "code",
   "execution_count": 14,
   "metadata": {
    "colab": {
     "base_uri": "https://localhost:8080/"
    },
    "id": "tFWCdeD7c5h7",
    "outputId": "e6d4262f-a55b-45ee-c34f-1ad38d44f0e1"
   },
   "outputs": [
    {
     "name": "stdout",
     "output_type": "stream",
     "text": [
      "Epoch 1/60\n",
      "449/449 [==============================] - 13s 22ms/step - loss: 1.8339 - accuracy: 0.2535 - val_loss: 2.1947 - val_accuracy: 0.2566\n",
      "Epoch 2/60\n",
      "449/449 [==============================] - 9s 20ms/step - loss: 1.7013 - accuracy: 0.3167 - val_loss: 1.7759 - val_accuracy: 0.3263\n",
      "Epoch 3/60\n",
      "449/449 [==============================] - 9s 20ms/step - loss: 1.6143 - accuracy: 0.3635 - val_loss: 1.6465 - val_accuracy: 0.3709\n",
      "Epoch 4/60\n",
      "449/449 [==============================] - 9s 21ms/step - loss: 1.5340 - accuracy: 0.4037 - val_loss: 1.5502 - val_accuracy: 0.4232\n",
      "Epoch 5/60\n",
      "449/449 [==============================] - 9s 21ms/step - loss: 1.4808 - accuracy: 0.4251 - val_loss: 1.4898 - val_accuracy: 0.4335\n",
      "Epoch 6/60\n",
      "449/449 [==============================] - 9s 20ms/step - loss: 1.4289 - accuracy: 0.4484 - val_loss: 1.4205 - val_accuracy: 0.4670\n",
      "Epoch 7/60\n",
      "449/449 [==============================] - 9s 20ms/step - loss: 1.3860 - accuracy: 0.4648 - val_loss: 1.3933 - val_accuracy: 0.4784\n",
      "Epoch 8/60\n",
      "449/449 [==============================] - 9s 20ms/step - loss: 1.3407 - accuracy: 0.4845 - val_loss: 1.3606 - val_accuracy: 0.4834\n",
      "Epoch 9/60\n",
      "449/449 [==============================] - 9s 20ms/step - loss: 1.3056 - accuracy: 0.5010 - val_loss: 1.3252 - val_accuracy: 0.4954\n",
      "Epoch 10/60\n",
      "449/449 [==============================] - 9s 21ms/step - loss: 1.2753 - accuracy: 0.5120 - val_loss: 1.2911 - val_accuracy: 0.5107\n",
      "Epoch 11/60\n",
      "449/449 [==============================] - 9s 21ms/step - loss: 1.2435 - accuracy: 0.5264 - val_loss: 1.2684 - val_accuracy: 0.5233\n",
      "Epoch 12/60\n",
      "449/449 [==============================] - 9s 20ms/step - loss: 1.2128 - accuracy: 0.5372 - val_loss: 1.2598 - val_accuracy: 0.5316\n",
      "Epoch 13/60\n",
      "449/449 [==============================] - 9s 20ms/step - loss: 1.1799 - accuracy: 0.5546 - val_loss: 1.2529 - val_accuracy: 0.5244\n",
      "Epoch 14/60\n",
      "449/449 [==============================] - 9s 21ms/step - loss: 1.1520 - accuracy: 0.5647 - val_loss: 1.2269 - val_accuracy: 0.5403\n",
      "Epoch 15/60\n",
      "449/449 [==============================] - 9s 21ms/step - loss: 1.1260 - accuracy: 0.5751 - val_loss: 1.2057 - val_accuracy: 0.5458\n",
      "Epoch 16/60\n",
      "449/449 [==============================] - 9s 20ms/step - loss: 1.0927 - accuracy: 0.5882 - val_loss: 1.1958 - val_accuracy: 0.5450\n",
      "Epoch 17/60\n",
      "449/449 [==============================] - 9s 21ms/step - loss: 1.0713 - accuracy: 0.5990 - val_loss: 1.1883 - val_accuracy: 0.5559\n",
      "Epoch 18/60\n",
      "449/449 [==============================] - 9s 20ms/step - loss: 1.0393 - accuracy: 0.6068 - val_loss: 1.1851 - val_accuracy: 0.5587\n",
      "Epoch 19/60\n",
      "449/449 [==============================] - 9s 20ms/step - loss: 1.0126 - accuracy: 0.6217 - val_loss: 1.2105 - val_accuracy: 0.5481\n",
      "Epoch 20/60\n",
      "449/449 [==============================] - 9s 21ms/step - loss: 0.9887 - accuracy: 0.6299 - val_loss: 1.1919 - val_accuracy: 0.5626\n",
      "Epoch 21/60\n",
      "449/449 [==============================] - 9s 21ms/step - loss: 0.9631 - accuracy: 0.6393 - val_loss: 1.1940 - val_accuracy: 0.5559\n",
      "Epoch 22/60\n",
      "449/449 [==============================] - 9s 21ms/step - loss: 0.9354 - accuracy: 0.6508 - val_loss: 1.1853 - val_accuracy: 0.5678\n",
      "Epoch 23/60\n",
      "449/449 [==============================] - 9s 20ms/step - loss: 0.9038 - accuracy: 0.6635 - val_loss: 1.1836 - val_accuracy: 0.5723\n",
      "Epoch 24/60\n",
      "449/449 [==============================] - 9s 20ms/step - loss: 0.8802 - accuracy: 0.6708 - val_loss: 1.1711 - val_accuracy: 0.5807\n",
      "Epoch 25/60\n",
      "449/449 [==============================] - 9s 20ms/step - loss: 0.8593 - accuracy: 0.6808 - val_loss: 1.1968 - val_accuracy: 0.5712\n",
      "Epoch 26/60\n",
      "449/449 [==============================] - 9s 21ms/step - loss: 0.8357 - accuracy: 0.6883 - val_loss: 1.1823 - val_accuracy: 0.5812\n",
      "Epoch 27/60\n",
      "449/449 [==============================] - 9s 21ms/step - loss: 0.8050 - accuracy: 0.7011 - val_loss: 1.1769 - val_accuracy: 0.5832\n",
      "Epoch 28/60\n",
      "449/449 [==============================] - 9s 20ms/step - loss: 0.7792 - accuracy: 0.7121 - val_loss: 1.1898 - val_accuracy: 0.5832\n",
      "Epoch 29/60\n",
      "449/449 [==============================] - 9s 21ms/step - loss: 0.7539 - accuracy: 0.7203 - val_loss: 1.2155 - val_accuracy: 0.5868\n",
      "Epoch 30/60\n",
      "449/449 [==============================] - 9s 21ms/step - loss: 0.7314 - accuracy: 0.7305 - val_loss: 1.2053 - val_accuracy: 0.5910\n",
      "Epoch 31/60\n",
      "449/449 [==============================] - 9s 20ms/step - loss: 0.7104 - accuracy: 0.7372 - val_loss: 1.2046 - val_accuracy: 0.5913\n",
      "Epoch 32/60\n",
      "449/449 [==============================] - 9s 20ms/step - loss: 0.6812 - accuracy: 0.7490 - val_loss: 1.2277 - val_accuracy: 0.5840\n",
      "Epoch 33/60\n",
      "449/449 [==============================] - 9s 21ms/step - loss: 0.6626 - accuracy: 0.7545 - val_loss: 1.2256 - val_accuracy: 0.5910\n",
      "Epoch 34/60\n",
      "449/449 [==============================] - 9s 20ms/step - loss: 0.6398 - accuracy: 0.7637 - val_loss: 1.2541 - val_accuracy: 0.5862\n",
      "Epoch 35/60\n",
      "449/449 [==============================] - 9s 20ms/step - loss: 0.6184 - accuracy: 0.7753 - val_loss: 1.2579 - val_accuracy: 0.5929\n",
      "Epoch 36/60\n",
      "449/449 [==============================] - 10s 21ms/step - loss: 0.5948 - accuracy: 0.7838 - val_loss: 1.2738 - val_accuracy: 0.5899\n",
      "Epoch 37/60\n",
      "449/449 [==============================] - 9s 21ms/step - loss: 0.5729 - accuracy: 0.7906 - val_loss: 1.3140 - val_accuracy: 0.5899\n",
      "Epoch 38/60\n",
      "449/449 [==============================] - 9s 21ms/step - loss: 0.5466 - accuracy: 0.7998 - val_loss: 1.3034 - val_accuracy: 0.5874\n",
      "Epoch 39/60\n",
      "449/449 [==============================] - 9s 21ms/step - loss: 0.5340 - accuracy: 0.8039 - val_loss: 1.3119 - val_accuracy: 0.5860\n",
      "Epoch 40/60\n",
      "449/449 [==============================] - 9s 20ms/step - loss: 0.5112 - accuracy: 0.8144 - val_loss: 1.3029 - val_accuracy: 0.5988\n",
      "Epoch 41/60\n",
      "449/449 [==============================] - 9s 21ms/step - loss: 0.4976 - accuracy: 0.8184 - val_loss: 1.3276 - val_accuracy: 0.5865\n",
      "Epoch 42/60\n",
      "449/449 [==============================] - 9s 21ms/step - loss: 0.4757 - accuracy: 0.8263 - val_loss: 1.3352 - val_accuracy: 0.5965\n",
      "Epoch 43/60\n",
      "449/449 [==============================] - 9s 20ms/step - loss: 0.4600 - accuracy: 0.8318 - val_loss: 1.3654 - val_accuracy: 0.5971\n",
      "Epoch 44/60\n",
      "449/449 [==============================] - 9s 21ms/step - loss: 0.4456 - accuracy: 0.8385 - val_loss: 1.3614 - val_accuracy: 0.5952\n",
      "Epoch 45/60\n",
      "449/449 [==============================] - 9s 21ms/step - loss: 0.4339 - accuracy: 0.8425 - val_loss: 1.3658 - val_accuracy: 0.5876\n",
      "Epoch 46/60\n",
      "449/449 [==============================] - 9s 21ms/step - loss: 0.4082 - accuracy: 0.8512 - val_loss: 1.4061 - val_accuracy: 0.5910\n",
      "Epoch 47/60\n",
      "449/449 [==============================] - 9s 21ms/step - loss: 0.4005 - accuracy: 0.8556 - val_loss: 1.3971 - val_accuracy: 0.5893\n",
      "Epoch 48/60\n",
      "449/449 [==============================] - 9s 21ms/step - loss: 0.3862 - accuracy: 0.8603 - val_loss: 1.4197 - val_accuracy: 0.5910\n",
      "Epoch 49/60\n",
      "449/449 [==============================] - 9s 21ms/step - loss: 0.3684 - accuracy: 0.8687 - val_loss: 1.4398 - val_accuracy: 0.5952\n",
      "Epoch 50/60\n",
      "449/449 [==============================] - 9s 21ms/step - loss: 0.3650 - accuracy: 0.8672 - val_loss: 1.4402 - val_accuracy: 0.5896\n",
      "Epoch 51/60\n",
      "449/449 [==============================] - 10s 21ms/step - loss: 0.3457 - accuracy: 0.8774 - val_loss: 1.4778 - val_accuracy: 0.5946\n",
      "Epoch 52/60\n",
      "449/449 [==============================] - 10s 21ms/step - loss: 0.3313 - accuracy: 0.8802 - val_loss: 1.4850 - val_accuracy: 0.5938\n",
      "Epoch 53/60\n",
      "449/449 [==============================] - 10s 22ms/step - loss: 0.3187 - accuracy: 0.8879 - val_loss: 1.5052 - val_accuracy: 0.5899\n",
      "Epoch 54/60\n",
      "449/449 [==============================] - 9s 21ms/step - loss: 0.3151 - accuracy: 0.8885 - val_loss: 1.4930 - val_accuracy: 0.5885\n",
      "Epoch 55/60\n",
      "449/449 [==============================] - 9s 21ms/step - loss: 0.3024 - accuracy: 0.8922 - val_loss: 1.5374 - val_accuracy: 0.5924\n",
      "Epoch 56/60\n",
      "449/449 [==============================] - 10s 22ms/step - loss: 0.2891 - accuracy: 0.8967 - val_loss: 1.5523 - val_accuracy: 0.5965\n",
      "Epoch 57/60\n",
      "449/449 [==============================] - 9s 21ms/step - loss: 0.2846 - accuracy: 0.8969 - val_loss: 1.5761 - val_accuracy: 0.5876\n",
      "Epoch 58/60\n",
      "449/449 [==============================] - 10s 21ms/step - loss: 0.2718 - accuracy: 0.9039 - val_loss: 1.6153 - val_accuracy: 0.5979\n",
      "Epoch 59/60\n",
      "449/449 [==============================] - 9s 21ms/step - loss: 0.2661 - accuracy: 0.9055 - val_loss: 1.5965 - val_accuracy: 0.5935\n",
      "Epoch 60/60\n",
      "449/449 [==============================] - 9s 21ms/step - loss: 0.2573 - accuracy: 0.9099 - val_loss: 1.6244 - val_accuracy: 0.5876\n"
     ]
    }
   ],
   "source": [
    "history = model.fit(X_train, train_y,\n",
    "                    batch_size = batch_size,\n",
    "                    epochs = epochs,\n",
    "                    verbose = 1,\n",
    "                    validation_data = (X_test, test_y),\n",
    "                    shuffle = True)"
   ]
  },
  {
   "cell_type": "code",
   "execution_count": 15,
   "metadata": {
    "id": "Y8_W1xCGc6mB"
   },
   "outputs": [],
   "source": [
    "module_json = model.to_json()\n",
    "with open(\"module.json\", \"w\") as json_file:\n",
    "  json_file.write(module_json)\n",
    "model.save_weights(\"module.h5\")"
   ]
  },
  {
   "cell_type": "code",
   "execution_count": 16,
   "metadata": {
    "colab": {
     "base_uri": "https://localhost:8080/",
     "height": 545
    },
    "id": "IZsgcykQzSdH",
    "outputId": "d1a37eb1-3059-492f-c00a-df5f4022a3a2"
   },
   "outputs": [
    {
     "data": {
      "image/png": "[encoded data removed]",
      "text/plain": [
       "<Figure size 432x288 with 1 Axes>"
      ]
     },
     "metadata": {
      "needs_background": "light"
     },
     "output_type": "display_data"
    },
    {
     "data": {
      "image/png": "[encoded data removed]",
      "text/plain": [
       "<Figure size 432x288 with 1 Axes>"
      ]
     },
     "metadata": {
      "needs_background": "light"
     },
     "output_type": "display_data"
    }
   ],
   "source": [
    "acc = history.history['accuracy']\n",
    "val_acc = history.history['val_accuracy']\n",
    "epochs = range(len(acc))\n",
    "\n",
    "plt.plot(epochs, acc, 'b', label='Training Accuracy')\n",
    "plt.plot(epochs, val_acc, 'r', label='Validation Accuracy')\n",
    "plt.title('Accuracy Graph')\n",
    "plt.legend()\n",
    "plt.figure()\n",
    "\n",
    "loss = history.history['loss']\n",
    "val_loss = history.history['val_loss']\n",
    "epochs = range(len(acc))\n",
    "\n",
    "plt.plot(epochs, loss, 'b', label='Training Loss')\n",
    "plt.plot(epochs, val_loss, 'r', label='Validation Loss')\n",
    "plt.title('Loss Graph')\n",
    "plt.legend()\n",
    "\n",
    "plt.show()"
   ]
  },
  {
   "cell_type": "markdown",
   "metadata": {
    "id": "WB995TZUtHmn"
   },
   "source": []
  },
  {
   "cell_type": "code",
   "execution_count": 17,
   "metadata": {
    "colab": {
     "base_uri": "https://localhost:8080/"
    },
    "id": "89sdElU5c7uo",
    "outputId": "902f642a-5fc9-4ebd-e288-91abe676893b"
   },
   "outputs": [
    {
     "name": "stdout",
     "output_type": "stream",
     "text": [
      "Accuracy:  0.6029534689328504\n"
     ]
    }
   ],
   "source": [
    "y = model.predict(X_check)\n",
    "\n",
    "y_pred = np.array([np.argmax(i) for i in y])\n",
    "\n",
    "y_check_class = np.array([np.argmax(i) for i in check_y])\n",
    "print(\"Accuracy: \",sum(y_pred==y_check_class)/len(y_pred))"
   ]
  },
  {
   "cell_type": "code",
   "execution_count": 18,
   "metadata": {
    "id": "B3Ek98Tqc8vd"
   },
   "outputs": [],
   "source": [
    "emotion_map = {0: 'Angry', 1: 'Digust', 2: 'Fear', 3: 'Happy', 4: 'Sad', 5: 'Surprise', 6: 'Neutral'}"
   ]
  },
  {
   "cell_type": "code",
   "execution_count": 19,
   "metadata": {
    "colab": {
     "base_uri": "https://localhost:8080/",
     "height": 284
    },
    "id": "QjNIOoIMc-Ad",
    "outputId": "6953b8ba-9323-4bc7-b5f0-59b6bfc499dd"
   },
   "outputs": [
    {
     "name": "stdout",
     "output_type": "stream",
     "text": [
      "Predict:  Sad\n"
     ]
    },
    {
     "data": {
      "image/png": "[encoded data removed]",
      "text/plain": [
       "<Figure size 432x288 with 1 Axes>"
      ]
     },
     "metadata": {
      "needs_background": "light"
     },
     "output_type": "display_data"
    }
   ],
   "source": [
    "img = image.load_img(\"PrivateTest_2134320.jpg\",target_size = (48,48),color_mode = \"grayscale\")\n",
    "img = np.array(img)\n",
    "plt.imshow(img)\n",
    "img = np.expand_dims(img,axis = 0)\n",
    "\n",
    "img = img.reshape(1,48,48,1)\n",
    "result = model.predict(img)\n",
    "result = list(result[0])\n",
    "img_index = result.index(max(result))\n",
    "print(\"Predict: \", emotion_map[img_index])"
   ]
  },
  {
   "cell_type": "code",
   "execution_count": 22,
   "metadata": {
    "colab": {
     "base_uri": "https://localhost:8080/",
     "height": 284
    },
    "id": "6g02Tx6_Pe50",
    "outputId": "d356c433-4960-4725-a456-144058a34656"
   },
   "outputs": [
    {
     "name": "stdout",
     "output_type": "stream",
     "text": [
      "Predict:  Happy\n"
     ]
    },
    {
     "data": {
      "image/png": "[encoded data removed]",
      "text/plain": [
       "<Figure size 432x288 with 1 Axes>"
      ]
     },
     "metadata": {
      "needs_background": "light"
     },
     "output_type": "display_data"
    }
   ],
   "source": [
    "img = image.load_img(\"PrivateTest_3447769.jpg\",target_size = (48,48),color_mode = \"grayscale\")\n",
    "img = np.array(img)\n",
    "plt.imshow(img)\n",
    "img = np.expand_dims(img,axis = 0)\n",
    "\n",
    "img = img.reshape(1,48,48,1)\n",
    "result = model.predict(img)\n",
    "result_label = result.argmax()\n",
    "print(\"Predict: \", emotion_map[result_label])"
   ]
  },
  {
   "cell_type": "code",
   "execution_count": 24,
   "metadata": {
    "colab": {
     "base_uri": "https://localhost:8080/",
     "height": 284
    },
    "id": "xQjkHqihs3Md",
    "outputId": "31abf6b0-1f38-4468-8709-7fb18086941d"
   },
   "outputs": [
    {
     "name": "stdout",
     "output_type": "stream",
     "text": [
      "Predict:  Happy\n"
     ]
    },
    {
     "data": {
      "image/png": "[encoded data removed]",
      "text/plain": [
       "<Figure size 432x288 with 1 Axes>"
      ]
     },
     "metadata": {
      "needs_background": "light"
     },
     "output_type": "display_data"
    }
   ],
   "source": [
    "img = image.load_img(\"PrivateTest_3783569.jpg\",target_size = (48,48),color_mode = \"grayscale\")\n",
    "img = np.array(img)\n",
    "plt.imshow(img)\n",
    "img = np.expand_dims(img,axis = 0)\n",
    "\n",
    "img = img.reshape(1,48,48,1)\n",
    "result = model.predict(img)\n",
    "result_label = result.argmax()\n",
    "print(\"Predict: \", emotion_map[result_label])"
   ]
  },
  {
   "cell_type": "code",
   "execution_count": 29,
   "metadata": {
    "colab": {
     "base_uri": "https://localhost:8080/",
     "height": 284
    },
    "id": "At9Lt5TztCwf",
    "outputId": "465a34be-53b8-4b82-ddff-78577478be28"
   },
   "outputs": [
    {
     "name": "stdout",
     "output_type": "stream",
     "text": [
      "Predict:  Surprise\n"
     ]
    },
    {
     "data": {
      "image/png": "[encoded data removed]",
      "text/plain": [
       "<Figure size 432x288 with 1 Axes>"
      ]
     },
     "metadata": {
      "needs_background": "light"
     },
     "output_type": "display_data"
    }
   ],
   "source": [
    "img = image.load_img(\"PrivateTest_14592510.jpg\",target_size = (48,48),color_mode = \"grayscale\")\n",
    "img = np.array(img)\n",
    "plt.imshow(img)\n",
    "img = np.expand_dims(img,axis = 0)\n",
    "\n",
    "\n",
    "img = img.reshape(1,48,48,1)\n",
    "result = model.predict(img)\n",
    "result_label = result.argmax()\n",
    "print(\"Predict: \", emotion_map[result_label])\n"
   ]
  },
  {
   "cell_type": "code",
   "execution_count": 30,
   "metadata": {
    "colab": {
     "base_uri": "https://localhost:8080/",
     "height": 284
    },
    "id": "r2d1ccCNwdyE",
    "outputId": "8024ad43-b1fe-41f9-aa95-f3503c8eda65"
   },
   "outputs": [
    {
     "name": "stdout",
     "output_type": "stream",
     "text": [
      "Predict:  Angry\n"
     ]
    },
    {
     "data": {
      "image/png": "[encoded data removed]",
      "text/plain": [
       "<Figure size 432x288 with 1 Axes>"
      ]
     },
     "metadata": {
      "needs_background": "light"
     },
     "output_type": "display_data"
    }
   ],
   "source": [
    "img = image.load_img(\"PublicTest_99509833.jpg\",target_size = (48,48),color_mode = \"grayscale\")\n",
    "img = np.array(img)\n",
    "plt.imshow(img)\n",
    "img = np.expand_dims(img,axis = 0)\n",
    "\n",
    "\n",
    "img = img.reshape(1,48,48,1)\n",
    "result = model.predict(img)\n",
    "result_label = result.argmax()\n",
    "print(\"Predict: \", emotion_map[result_label])"
   ]
  },
  {
   "cell_type": "code",
   "execution_count": 32,
   "metadata": {
    "colab": {
     "base_uri": "https://localhost:8080/",
     "height": 284
    },
    "id": "KhnypVxAwS2r",
    "outputId": "17666b0c-e01b-47a7-8811-d794edfc8adc"
   },
   "outputs": [
    {
     "name": "stdout",
     "output_type": "stream",
     "text": [
      "Predict:  Sad\n"
     ]
    },
    {
     "data": {
      "image/png": "[encoded data removed]",
      "text/plain": [
       "<Figure size 432x288 with 1 Axes>"
      ]
     },
     "metadata": {
      "needs_background": "light"
     },
     "output_type": "display_data"
    }
   ],
   "source": [
    "img = image.load_img(\"PrivateTest_52177909.jpg\",target_size = (48,48),color_mode = \"grayscale\")\n",
    "img = np.array(img)\n",
    "plt.imshow(img)\n",
    "img = np.expand_dims(img,axis = 0)\n",
    "\n",
    "img = img.reshape(1,48,48,1)\n",
    "result = model.predict(img)\n",
    "result_label = result.argmax()\n",
    "print(\"Predict: \", emotion_map[result_label])"
   ]
  },
  {
   "cell_type": "code",
   "execution_count": 33,
   "metadata": {
    "colab": {
     "base_uri": "https://localhost:8080/",
     "height": 284
    },
    "id": "m3WNjWaFwpGW",
    "outputId": "7f6a8f2e-1d06-4cf7-d700-d2bcc04cd8b8"
   },
   "outputs": [
    {
     "name": "stdout",
     "output_type": "stream",
     "text": [
      "Predict:  Sad\n"
     ]
    },
    {
     "data": {
      "image/png": "[encoded data removed]",
      "text/plain": [
       "<Figure size 432x288 with 1 Axes>"
      ]
     },
     "metadata": {
      "needs_background": "light"
     },
     "output_type": "display_data"
    }
   ],
   "source": [
    "img = image.load_img(\"PrivateTest_4002000.jpg\",target_size = (48,48),color_mode = \"grayscale\")\n",
    "img = np.array(img)\n",
    "plt.imshow(img)\n",
    "img = np.expand_dims(img,axis = 0)\n",
    "\n",
    "img = img.reshape(1,48,48,1)\n",
    "result = model.predict(img)\n",
    "result_label = result.argmax()\n",
    "print(\"Predict: \", emotion_map[result_label])"
   ]
  },
  {
   "cell_type": "code",
   "execution_count": 35,
   "metadata": {
    "colab": {
     "base_uri": "https://localhost:8080/",
     "height": 284
    },
    "id": "AAOkOkjkwwsr",
    "outputId": "7178e9b7-7d2e-4ffc-a107-90ddeb6a250e"
   },
   "outputs": [
    {
     "name": "stdout",
     "output_type": "stream",
     "text": [
      "Predict:  Sad\n"
     ]
    },
    {
     "data": {
      "image/png": "[encoded data removed]",
      "text/plain": [
       "<Figure size 432x288 with 1 Axes>"
      ]
     },
     "metadata": {
      "needs_background": "light"
     },
     "output_type": "display_data"
    }
   ],
   "source": [
    "img = image.load_img(\"PrivateTest_4658147.jpg\",target_size = (48,48),color_mode = \"grayscale\")\n",
    "img = np.array(img)\n",
    "plt.imshow(img)\n",
    "img = np.expand_dims(img,axis = 0)\n",
    "\n",
    "img = img.reshape(1,48,48,1)\n",
    "result = model.predict(img)\n",
    "result_label = result.argmax()\n",
    "print(\"Predict: \", emotion_map[result_label])"
   ]
  }
 ],
 "metadata": {
  "accelerator": "GPU",
  "colab": {
   "collapsed_sections": [],
   "name": "51800969_Pham_Viet_Dung_51900621_Nguyen_Quoc_Dai_So_2_Code.ipynb",
   "provenance": []
  },
  "kernelspec": {
   "display_name": "Python 3 (ipykernel)",
   "language": "python",
   "name": "python3"
  },
  "language_info": {
   "codemirror_mode": {
    "name": "ipython",
    "version": 3
   },
   "file_extension": ".py",
   "mimetype": "text/x-python",
   "name": "python",
   "nbconvert_exporter": "python",
   "pygments_lexer": "ipython3",
   "version": "3.9.7"
  }
 },
 "nbformat": 4,
 "nbformat_minor": 1
}
